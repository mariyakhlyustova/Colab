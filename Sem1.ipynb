{
  "nbformat": 4,
  "nbformat_minor": 0,
  "metadata": {
    "colab": {
      "provenance": [],
      "authorship_tag": "ABX9TyPeamulTGGmcIc7PmLTCxVz",
      "include_colab_link": true
    },
    "kernelspec": {
      "name": "python3",
      "display_name": "Python 3"
    },
    "language_info": {
      "name": "python"
    }
  },
  "cells": [
    {
      "cell_type": "markdown",
      "metadata": {
        "id": "view-in-github",
        "colab_type": "text"
      },
      "source": [
        "<a href=\"https://colab.research.google.com/github/mariyakhlyustova/Colab/blob/main/Sem1.ipynb\" target=\"_parent\"><img src=\"https://colab.research.google.com/assets/colab-badge.svg\" alt=\"Open In Colab\"/></a>"
      ]
    },
    {
      "cell_type": "code",
      "execution_count": null,
      "metadata": {
        "id": "jvLKb3TvSSMl"
      },
      "outputs": [],
      "source": []
    },
    {
      "cell_type": "markdown",
      "metadata": {
        "id": "b88819d0"
      },
      "source": [
        "## Задание 1\n",
        "\n",
        "### 1.1 Соедините два словаря в один"
      ]
    },
    {
      "cell_type": "code",
      "execution_count": null,
      "metadata": {
        "id": "643038c6"
      },
      "outputs": [],
      "source": [
        "dict1 = {'One': 1, 'Two': 2, 'Three': 3}\n",
        "dict2 = {'Four': 4, 'Five': 5, 'Six': 6}"
      ]
    },
    {
      "cell_type": "code",
      "execution_count": null,
      "metadata": {
        "colab": {
          "base_uri": "https://localhost:8080/"
        },
        "id": "14cb619b",
        "outputId": "4d82ceed-4c53-432d-ac30-8ebbdab97181"
      },
      "outputs": [
        {
          "output_type": "execute_result",
          "data": {
            "text/plain": [
              "{'One': 1, 'Two': 2, 'Three': 3, 'Four': 4, 'Five': 5, 'Six': 6}"
            ]
          },
          "metadata": {},
          "execution_count": 2
        }
      ],
      "source": [
        "dict1 | dict2"
      ]
    },
    {
      "cell_type": "code",
      "execution_count": null,
      "metadata": {
        "id": "9624c5bc"
      },
      "outputs": [],
      "source": [
        "dict1.update(dict2)"
      ]
    },
    {
      "cell_type": "code",
      "execution_count": null,
      "metadata": {
        "colab": {
          "base_uri": "https://localhost:8080/"
        },
        "id": "3c60c565",
        "outputId": "071575c0-0226-48e1-fef2-c530a996e865"
      },
      "outputs": [
        {
          "output_type": "execute_result",
          "data": {
            "text/plain": [
              "{'One': 1, 'Two': 2, 'Three': 3, 'Four': 4, 'Five': 5, 'Six': 6}"
            ]
          },
          "metadata": {},
          "execution_count": 4
        }
      ],
      "source": [
        "dict1"
      ]
    },
    {
      "cell_type": "markdown",
      "metadata": {
        "id": "95b127c9"
      },
      "source": [
        "### 1.2 Напишите функцию, которая на вход принимает два словаря и возвращает один объединенный словарь"
      ]
    },
    {
      "cell_type": "code",
      "execution_count": null,
      "metadata": {
        "id": "1976fc85"
      },
      "outputs": [],
      "source": [
        "dict1 = {'One': 1, 'Two': 2, 'Three': 3}\n",
        "dict2 = {'Four': 4, 'Five': 5, 'Six': 6}"
      ]
    },
    {
      "cell_type": "code",
      "execution_count": null,
      "metadata": {
        "id": "5d01ad92"
      },
      "outputs": [],
      "source": [
        "def update_dict(d1:dict, d2:dict) -> dict:\n",
        "    return d1 | d2"
      ]
    },
    {
      "cell_type": "code",
      "execution_count": null,
      "metadata": {
        "colab": {
          "base_uri": "https://localhost:8080/"
        },
        "id": "1a18cfeb",
        "outputId": "a71e6d2b-7a6f-47e8-ee7d-b5128a08358a"
      },
      "outputs": [
        {
          "output_type": "stream",
          "name": "stdout",
          "text": [
            "{'One': 1, 'Two': 2, 'Three': 3, 'Four': 4, 'Five': 5, 'Six': 6}\n"
          ]
        }
      ],
      "source": [
        "print(update_dict(dict1, dict2))"
      ]
    },
    {
      "cell_type": "markdown",
      "metadata": {
        "id": "1622dbcd"
      },
      "source": [
        "## Задание 2\n",
        "\n",
        "Напишите функцию, которая из двух списков, делает один словарь, где элементы из первого списка - ключи, а элементы из второго списка - значения\n",
        "\n",
        "\n",
        "Используйте аннотирование типов\n",
        "\n",
        "### 2.1 Используя цикл for"
      ]
    },
    {
      "cell_type": "code",
      "execution_count": null,
      "metadata": {
        "id": "497896e9"
      },
      "outputs": [],
      "source": [
        "keys = ['Ones', 'Two', 'Three']\n",
        "values = [1, 2, 3]"
      ]
    },
    {
      "cell_type": "markdown",
      "metadata": {
        "id": "0183ec1c"
      },
      "source": [
        "словарь[ключ] = значение"
      ]
    },
    {
      "cell_type": "code",
      "execution_count": null,
      "metadata": {
        "id": "eee603e8"
      },
      "outputs": [],
      "source": [
        "def make_dict(d1:list, d2:list) -> dict:\n",
        "    new_dict = {}\n",
        "    for i in range(len(d1)):\n",
        "        new_dict[d1[i]] = d2[i]\n",
        "    return new_dict"
      ]
    },
    {
      "cell_type": "code",
      "execution_count": null,
      "metadata": {
        "colab": {
          "base_uri": "https://localhost:8080/"
        },
        "id": "67af5600",
        "outputId": "f8588ac0-daf0-41d6-91e3-50e6849fa5f3"
      },
      "outputs": [
        {
          "output_type": "execute_result",
          "data": {
            "text/plain": [
              "{'Ones': 1, 'Two': 2, 'Three': 3}"
            ]
          },
          "metadata": {},
          "execution_count": 10
        }
      ],
      "source": [
        "make_dict(keys, values)"
      ]
    },
    {
      "cell_type": "markdown",
      "metadata": {
        "id": "5b254d4e"
      },
      "source": [
        "### 2.2 Используя dict comprehensions"
      ]
    },
    {
      "cell_type": "code",
      "execution_count": null,
      "metadata": {
        "id": "a9a2d25b"
      },
      "outputs": [],
      "source": [
        "def make_dict2(d1:list, d2:list) -> dict:\n",
        "    return {d1[i]: d2[i] for i in range(len(d1))}"
      ]
    },
    {
      "cell_type": "code",
      "execution_count": null,
      "metadata": {
        "colab": {
          "base_uri": "https://localhost:8080/"
        },
        "id": "9e5c194a",
        "outputId": "341aeed6-48f7-4fe1-fa47-89052e1e99db"
      },
      "outputs": [
        {
          "output_type": "execute_result",
          "data": {
            "text/plain": [
              "{'Ones': 1, 'Two': 2, 'Three': 3}"
            ]
          },
          "metadata": {},
          "execution_count": 12
        }
      ],
      "source": [
        "make_dict2(keys, values)"
      ]
    },
    {
      "cell_type": "code",
      "execution_count": null,
      "metadata": {
        "id": "a5e5ac4f"
      },
      "outputs": [],
      "source": [
        "dict_3 = {keys[i]: values[i] for i in range(len(keys))}"
      ]
    },
    {
      "cell_type": "code",
      "execution_count": null,
      "metadata": {
        "colab": {
          "base_uri": "https://localhost:8080/"
        },
        "id": "9407eeab",
        "outputId": "9fa0bb6e-b618-4242-c6e8-4a30a7ddf86d"
      },
      "outputs": [
        {
          "output_type": "execute_result",
          "data": {
            "text/plain": [
              "{'Ones': 1, 'Two': 2, 'Three': 3}"
            ]
          },
          "metadata": {},
          "execution_count": 14
        }
      ],
      "source": [
        "dict_3"
      ]
    },
    {
      "cell_type": "markdown",
      "metadata": {
        "id": "b66084f5"
      },
      "source": [
        "Еще способ: через zip"
      ]
    },
    {
      "cell_type": "code",
      "execution_count": null,
      "metadata": {
        "id": "014861c2"
      },
      "outputs": [],
      "source": [
        "dict3 = dict(zip(keys, values))"
      ]
    },
    {
      "cell_type": "code",
      "execution_count": null,
      "metadata": {
        "colab": {
          "base_uri": "https://localhost:8080/"
        },
        "id": "a946eff3",
        "outputId": "1716b938-c8a1-4f64-ebb8-342317c13274"
      },
      "outputs": [
        {
          "output_type": "execute_result",
          "data": {
            "text/plain": [
              "{'Ones': 1, 'Two': 2, 'Three': 3}"
            ]
          },
          "metadata": {},
          "execution_count": 16
        }
      ],
      "source": [
        "dict3"
      ]
    },
    {
      "cell_type": "markdown",
      "metadata": {
        "id": "682ddfb3"
      },
      "source": [
        "## Задание 3\n",
        "\n",
        "Извлеките только два ключа name и age из представленного словаря\n",
        "\n",
        "### 3.1 Напишите функцию с циклом for\n",
        "Функция на вход принимает:\n",
        "* исходный словарь\n",
        "* ключи, которые нужно извлечь (аргумент по умолчанию)\n",
        "\n",
        "На выходе словарь с нужными ключами\n",
        "\n",
        "Используйте аннотирование типов\n"
      ]
    },
    {
      "cell_type": "code",
      "execution_count": null,
      "metadata": {
        "id": "de428331"
      },
      "outputs": [],
      "source": [
        "client_dict = {\n",
        "    \"name\": \"John\",\n",
        "    \"age\": 25,\n",
        "    \"salary\": 500000,\n",
        "    \"city\": \"Moscow\"\n",
        "}"
      ]
    },
    {
      "cell_type": "code",
      "execution_count": null,
      "metadata": {
        "id": "22e3c8c8"
      },
      "outputs": [],
      "source": [
        "keys = [\"name\", \"age\"]"
      ]
    },
    {
      "cell_type": "code",
      "execution_count": null,
      "metadata": {
        "id": "5e3a8473"
      },
      "outputs": [],
      "source": [
        "def get_keys(dictionary: dict, keys: list) -> dict:\n",
        "    my_dict = {}\n",
        "    for key in keys:\n",
        "        my_dict[key] = dictionary[key]\n",
        "    return my_dict"
      ]
    },
    {
      "cell_type": "code",
      "execution_count": null,
      "metadata": {
        "colab": {
          "base_uri": "https://localhost:8080/"
        },
        "id": "051f1dd1",
        "outputId": "5b23643e-9320-421b-9cb3-35303252d069"
      },
      "outputs": [
        {
          "output_type": "execute_result",
          "data": {
            "text/plain": [
              "{'name': 'John', 'age': 25}"
            ]
          },
          "metadata": {},
          "execution_count": 20
        }
      ],
      "source": [
        "get_keys(client_dict, keys)"
      ]
    },
    {
      "cell_type": "markdown",
      "metadata": {
        "id": "74fba282"
      },
      "source": [
        "### 3.2 Используя dict comprehensions"
      ]
    },
    {
      "cell_type": "code",
      "execution_count": null,
      "metadata": {
        "id": "a9891ff6"
      },
      "outputs": [],
      "source": [
        "client_dict = {\n",
        "    \"name\": \"John\",\n",
        "    \"age\": 25,\n",
        "    \"salary\": 500000,\n",
        "    \"city\": \"Moscow\"\n",
        "}"
      ]
    },
    {
      "cell_type": "code",
      "execution_count": null,
      "metadata": {
        "id": "83e56526"
      },
      "outputs": [],
      "source": [
        "my_keys = [\"name\", \"age\"]"
      ]
    },
    {
      "cell_type": "markdown",
      "metadata": {
        "id": "288f2a50"
      },
      "source": [
        "{ключ: значение и откуда берем ключи и значения}"
      ]
    },
    {
      "cell_type": "markdown",
      "metadata": {
        "id": "c7a96153"
      },
      "source": [
        "имя_словаря[ключ] = значение"
      ]
    },
    {
      "cell_type": "code",
      "execution_count": null,
      "metadata": {
        "id": "f5ef5991"
      },
      "outputs": [],
      "source": [
        "my_dict = {k: client_dict[k] for k in my_keys}"
      ]
    },
    {
      "cell_type": "code",
      "execution_count": null,
      "metadata": {
        "colab": {
          "base_uri": "https://localhost:8080/"
        },
        "id": "1a8d7a56",
        "outputId": "adfaeda7-a950-42d5-9015-310482fcdaf0"
      },
      "outputs": [
        {
          "output_type": "execute_result",
          "data": {
            "text/plain": [
              "{'name': 'John', 'age': 25}"
            ]
          },
          "metadata": {},
          "execution_count": 24
        }
      ],
      "source": [
        "my_dict"
      ]
    },
    {
      "cell_type": "code",
      "execution_count": null,
      "metadata": {
        "id": "16096287"
      },
      "outputs": [],
      "source": [
        "def get_keys_2(dictionary, keys=[\"name\", \"age\"]):\n",
        "    return {key: dictionary[key] for key in keys}"
      ]
    },
    {
      "cell_type": "code",
      "execution_count": null,
      "metadata": {
        "colab": {
          "base_uri": "https://localhost:8080/"
        },
        "id": "c4628291",
        "outputId": "c5c6a643-71fc-445c-d052-e01b8029d62a"
      },
      "outputs": [
        {
          "output_type": "execute_result",
          "data": {
            "text/plain": [
              "{'name': 'John', 'age': 25}"
            ]
          },
          "metadata": {},
          "execution_count": 26
        }
      ],
      "source": [
        "get_keys_2(client_dict, keys)"
      ]
    },
    {
      "cell_type": "markdown",
      "metadata": {
        "id": "1d620f17"
      },
      "source": [
        "## Задание 4\n",
        "\n",
        "### 4.1 Сгенерируйте случайные целые числа от 0 до 100 в количестве 5 штук с помощью модуля random\n",
        "* Зафиксируйте псевдогенерацию, чтобы сгенерированные значения всегда были одинаковые\n",
        "* Используйте list comprehensions"
      ]
    },
    {
      "cell_type": "code",
      "execution_count": null,
      "metadata": {
        "id": "626bc3c6"
      },
      "outputs": [],
      "source": [
        "from random import randint, seed"
      ]
    },
    {
      "cell_type": "code",
      "execution_count": null,
      "metadata": {
        "id": "a93a2168"
      },
      "outputs": [],
      "source": [
        "seed(42)\n",
        "data = [randint(0, 100) for i in range(5)]"
      ]
    },
    {
      "cell_type": "code",
      "execution_count": null,
      "metadata": {
        "colab": {
          "base_uri": "https://localhost:8080/"
        },
        "id": "019037ee",
        "outputId": "d68e98a3-ca3e-41a3-d777-710b3711f592"
      },
      "outputs": [
        {
          "output_type": "execute_result",
          "data": {
            "text/plain": [
              "[81, 14, 3, 94, 35]"
            ]
          },
          "metadata": {},
          "execution_count": 29
        }
      ],
      "source": [
        "data"
      ]
    },
    {
      "cell_type": "markdown",
      "metadata": {
        "id": "bad41195"
      },
      "source": [
        "### 4.2 Напишите генератор\n",
        "* Генератор на вход принимает список с данными о клиенте (данные из пункта 4.1)\n",
        "* Внутри генератора реализуйте обход по списку с данными\n",
        "\n",
        "На каждой итерации генератор будет возвращать кортеж из двух элементов:\n",
        "1. данные по клиенту (в зависимости от итерации, на 0 итерации вернется 0 элемент, на 1 итерации вернется 1 элемент и тд)\n",
        "2. целочисленное значение, которое показывает, сколько секунд прошло с предыдущей итерации\n",
        "\n",
        "Примечание: секунды, которые возвращаются должны показывать время не с начала запуска генератора, а именно то время, которое прошло с предыдущей итерации. А значит время на первой итерации должно равняться 0.\n",
        "* Используйте функцию time из модуля time для подсчета времени.\n",
        "* Чтобы проверить работу таймера, запустите проход по генератору в цикле с time.sleep(2)"
      ]
    },
    {
      "cell_type": "code",
      "execution_count": null,
      "metadata": {
        "id": "23411f55"
      },
      "outputs": [],
      "source": [
        "import time\n",
        "import random"
      ]
    },
    {
      "cell_type": "code",
      "execution_count": null,
      "metadata": {
        "id": "476e28ad"
      },
      "outputs": [],
      "source": [
        "def simple_time_generator(data: list):\n",
        "    for item in data:\n",
        "        start_time = time.time()\n",
        "        time.sleep(2)\n",
        "        current_time = time.time()\n",
        "        delta = current_time - start_time\n",
        "        yield(delta, item)"
      ]
    },
    {
      "cell_type": "code",
      "execution_count": null,
      "metadata": {
        "colab": {
          "base_uri": "https://localhost:8080/"
        },
        "id": "37c951bc",
        "outputId": "65d8c9f8-e413-42c1-8084-42c18b4bc3c2"
      },
      "outputs": [
        {
          "output_type": "stream",
          "name": "stdout",
          "text": [
            "(2.0020787715911865, 81)\n",
            "(2.0020883083343506, 14)\n",
            "(2.0021069049835205, 3)\n",
            "(2.0016262531280518, 94)\n",
            "(2.001844644546509, 35)\n"
          ]
        }
      ],
      "source": [
        "for obj in simple_time_generator(data):\n",
        "    print(obj)"
      ]
    },
    {
      "cell_type": "code",
      "execution_count": null,
      "metadata": {
        "id": "81e6d4d5"
      },
      "outputs": [],
      "source": [
        "def generator(data: list):\n",
        "    last_time = None\n",
        "    for item in data:\n",
        "        current_time = time.time()\n",
        "        if last_time:\n",
        "            delta = current_time - last_time\n",
        "        else:\n",
        "            delta = 0\n",
        "        last_time = time.time()\n",
        "        yield(delta, item)"
      ]
    },
    {
      "cell_type": "code",
      "execution_count": null,
      "metadata": {
        "colab": {
          "base_uri": "https://localhost:8080/"
        },
        "id": "db5eb4ca",
        "outputId": "a3795fbc-2ced-4a02-dace-9e6387648c19"
      },
      "outputs": [
        {
          "output_type": "stream",
          "name": "stdout",
          "text": [
            "(0, 81)\n",
            "(2.002164840698242, 14)\n",
            "(2.0022127628326416, 3)\n",
            "(2.0016777515411377, 94)\n",
            "(2.002213478088379, 35)\n"
          ]
        }
      ],
      "source": [
        "for obj in generator(data):\n",
        "    print(obj)\n",
        "    time.sleep(2)"
      ]
    },
    {
      "cell_type": "code",
      "execution_count": null,
      "metadata": {
        "id": "91129483"
      },
      "outputs": [],
      "source": [
        "gener = (item for item in data)"
      ]
    },
    {
      "cell_type": "code",
      "execution_count": null,
      "metadata": {
        "colab": {
          "base_uri": "https://localhost:8080/"
        },
        "id": "ec698417",
        "outputId": "b78f09a7-6bad-4043-8ab5-8c22a9ab4c7d"
      },
      "outputs": [
        {
          "output_type": "stream",
          "name": "stdout",
          "text": [
            "81 14 3 94 35\n"
          ]
        }
      ],
      "source": [
        "print(*gener)"
      ]
    },
    {
      "cell_type": "markdown",
      "metadata": {
        "id": "00f03753"
      },
      "source": [
        "## Задание 5\n",
        "### 5.1 Найдите картинку в интернете и прикрепите её в ячейку с текстом"
      ]
    },
    {
      "cell_type": "markdown",
      "metadata": {
        "id": "643f5d7e"
      },
      "source": [
        "Картинка в тексте <img src=http://file.elecfans.com/web1/M00/85/39/pIYBAFxjgHKAHGRKAAGCvIQmljc250.png>"
      ]
    },
    {
      "cell_type": "markdown",
      "metadata": {
        "id": "ffaf988a"
      },
      "source": [
        "### 5.2 Создайте следующую таблицу в ячейке с текстом"
      ]
    },
    {
      "cell_type": "markdown",
      "metadata": {
        "id": "917df0ba"
      },
      "source": [
        "![%D0%A2%D0%B0%D0%B1%D0%BB%D0%B8%D1%86%D0%B0.png](attachment:%D0%A2%D0%B0%D0%B1%D0%BB%D0%B8%D1%86%D0%B0.png)"
      ]
    },
    {
      "cell_type": "markdown",
      "metadata": {
        "id": "9ce52994"
      },
      "source": [
        "<table>    \n",
        "    <tr>        \n",
        "        <th></th>\n",
        "        <th>До события</th>\n",
        "        <th>Время события</th>\n",
        "    </tr>\n",
        "    <tr>\n",
        "        <td><b>1 контрольная точка</b></td><td>250</td><td>500</td>\n",
        "    </tr>\n",
        "    <tr>\n",
        "        <td><b>2 контрольная точка</b></td><td>350</td><td>700</td>\n",
        "    </tr>\n",
        "    <tr>\n",
        "        <td><b>3 контрольная точка</b></td><td>400</td><td>800</td>\n",
        "    </tr>\n",
        "    <tr>\n",
        "        <td></td><td></td><td></td>\n",
        "    </tr>\n",
        "    <tr>\n",
        "        <td><b>Итого за победу</b></td><td>1000</td><td>2000</td>\n",
        "    </tr>    \n",
        "</table>"
      ]
    },
    {
      "cell_type": "markdown",
      "metadata": {
        "id": "5060ff2d"
      },
      "source": [
        "## Задание 6\n",
        "### Напишите функцию, которая может принимать любое количество трат пользователя и считать сумму и среднее.\n",
        "* На вход поступают целочисленные значения в любом количестве\n",
        "* На выходе словарь с ключами суммы трат и средней траты\n"
      ]
    },
    {
      "cell_type": "code",
      "execution_count": null,
      "metadata": {
        "id": "f5a3a3fa"
      },
      "outputs": [],
      "source": [
        "def sum_and_mean(*args):\n",
        "    return {\n",
        "        \"sum\": sum(args),\n",
        "        \"mean\": sum(args)/len(args)\n",
        "    }"
      ]
    },
    {
      "cell_type": "code",
      "execution_count": null,
      "metadata": {
        "colab": {
          "base_uri": "https://localhost:8080/"
        },
        "id": "f53c4789",
        "outputId": "0779f369-a3cc-440f-a352-69cab3bac442"
      },
      "outputs": [
        {
          "output_type": "execute_result",
          "data": {
            "text/plain": [
              "{'sum': 80, 'mean': 20.0}"
            ]
          },
          "metadata": {},
          "execution_count": 38
        }
      ],
      "source": [
        "sum_and_mean(5, 10, 15, 50)"
      ]
    },
    {
      "cell_type": "code",
      "execution_count": null,
      "metadata": {
        "id": "7f81ff79"
      },
      "outputs": [],
      "source": [
        "def sum_and_mean_2(*args):\n",
        "    summa = 0\n",
        "    num = 0\n",
        "    for el in args:\n",
        "        summa += el\n",
        "        num += 1\n",
        "    return {\n",
        "        \"sum\": summa,\n",
        "        \"mean\": summa/num\n",
        "    }"
      ]
    },
    {
      "cell_type": "code",
      "execution_count": null,
      "metadata": {
        "colab": {
          "base_uri": "https://localhost:8080/"
        },
        "id": "7b61af35",
        "outputId": "00cffbac-0c7d-4586-cc38-1430fa8f206c"
      },
      "outputs": [
        {
          "output_type": "execute_result",
          "data": {
            "text/plain": [
              "{'sum': 30, 'mean': 10.0}"
            ]
          },
          "metadata": {},
          "execution_count": 40
        }
      ],
      "source": [
        "sum_and_mean_2(5, 10, 15)"
      ]
    },
    {
      "cell_type": "code",
      "execution_count": null,
      "metadata": {
        "id": "a736db14"
      },
      "outputs": [],
      "source": []
    },
    {
      "cell_type": "code",
      "execution_count": null,
      "metadata": {
        "id": "161ab6e3"
      },
      "outputs": [],
      "source": []
    },
    {
      "cell_type": "code",
      "execution_count": null,
      "metadata": {
        "id": "2a7a82dd"
      },
      "outputs": [],
      "source": []
    },
    {
      "cell_type": "code",
      "execution_count": null,
      "metadata": {
        "id": "1042c8c9"
      },
      "outputs": [],
      "source": []
    },
    {
      "cell_type": "code",
      "execution_count": null,
      "metadata": {
        "id": "a240e385"
      },
      "outputs": [],
      "source": [
        "list_dates = ['2021-09-14', '2021-12-15', '2021-09-08', '2021-12-05', '2021-10-09',\n",
        "              '2021-09-30', '2021-12-22', '2021-11-29', '2021-12-24', '2021-11-26',\n",
        "              '2021-10-27', '2021-12-18', '2021-11-09', '2021-11-23', '2021-09-27',\n",
        "              '2021-10-02', '2021-12-27', '2021-09-20', '2021-12-13', '2021-11-01',\n",
        "              '2021-11-09', '2021-12-06', '2021-12-08', '2021-10-09', '2021-10-31',\n",
        "              '2021-09-30', '2021-11-09', '2021-12-13', '2021-10-26', '2021-12-09']\n"
      ]
    },
    {
      "cell_type": "code",
      "execution_count": null,
      "metadata": {
        "id": "791357fb"
      },
      "outputs": [],
      "source": [
        "my_str = '2021-11-14'"
      ]
    },
    {
      "cell_type": "code",
      "execution_count": null,
      "metadata": {
        "colab": {
          "base_uri": "https://localhost:8080/",
          "height": 36
        },
        "id": "bada1bfc",
        "outputId": "12b6aab1-7b67-46ab-89af-6785c7b7a94f"
      },
      "outputs": [
        {
          "output_type": "execute_result",
          "data": {
            "text/plain": [
              "'11'"
            ],
            "application/vnd.google.colaboratory.intrinsic+json": {
              "type": "string"
            }
          },
          "metadata": {},
          "execution_count": 43
        }
      ],
      "source": [
        "my_str[5:7]"
      ]
    },
    {
      "cell_type": "code",
      "execution_count": null,
      "metadata": {
        "colab": {
          "base_uri": "https://localhost:8080/"
        },
        "id": "6c132872",
        "outputId": "ded7bdf2-1e52-4db5-ed9f-f0d5d2442568"
      },
      "outputs": [
        {
          "output_type": "execute_result",
          "data": {
            "text/plain": [
              "['2021', '11', '14']"
            ]
          },
          "metadata": {},
          "execution_count": 44
        }
      ],
      "source": [
        "my_str.split('-')"
      ]
    },
    {
      "cell_type": "code",
      "execution_count": null,
      "metadata": {
        "id": "307e0faa"
      },
      "outputs": [],
      "source": [
        "year, month, day = my_str.split('-')"
      ]
    },
    {
      "cell_type": "code",
      "execution_count": null,
      "metadata": {
        "colab": {
          "base_uri": "https://localhost:8080/",
          "height": 36
        },
        "id": "7c17ad29",
        "outputId": "32a9f64a-0706-4bb9-8f16-1f80fdd7ab29"
      },
      "outputs": [
        {
          "output_type": "execute_result",
          "data": {
            "text/plain": [
              "'2021'"
            ],
            "application/vnd.google.colaboratory.intrinsic+json": {
              "type": "string"
            }
          },
          "metadata": {},
          "execution_count": 46
        }
      ],
      "source": [
        "year"
      ]
    },
    {
      "cell_type": "code",
      "execution_count": null,
      "metadata": {
        "colab": {
          "base_uri": "https://localhost:8080/",
          "height": 36
        },
        "id": "af21d02c",
        "outputId": "64bef816-5283-42b8-d33c-286f2569aba7"
      },
      "outputs": [
        {
          "output_type": "execute_result",
          "data": {
            "text/plain": [
              "'11'"
            ],
            "application/vnd.google.colaboratory.intrinsic+json": {
              "type": "string"
            }
          },
          "metadata": {},
          "execution_count": 47
        }
      ],
      "source": [
        "month"
      ]
    },
    {
      "cell_type": "code",
      "execution_count": null,
      "metadata": {
        "colab": {
          "base_uri": "https://localhost:8080/",
          "height": 36
        },
        "id": "bbaec416",
        "outputId": "9e2dcd9a-cc8c-4afd-b24b-6f05b30a4a58"
      },
      "outputs": [
        {
          "output_type": "execute_result",
          "data": {
            "text/plain": [
              "'14'"
            ],
            "application/vnd.google.colaboratory.intrinsic+json": {
              "type": "string"
            }
          },
          "metadata": {},
          "execution_count": 48
        }
      ],
      "source": [
        "day"
      ]
    },
    {
      "cell_type": "code",
      "execution_count": null,
      "metadata": {
        "id": "b82d7709"
      },
      "outputs": [],
      "source": [
        "_, month, _ = my_str.split('-')"
      ]
    },
    {
      "cell_type": "code",
      "execution_count": null,
      "metadata": {
        "colab": {
          "base_uri": "https://localhost:8080/",
          "height": 36
        },
        "id": "a5c78604",
        "outputId": "b5a617e0-57d8-4b03-fb53-81a0122bc978"
      },
      "outputs": [
        {
          "output_type": "execute_result",
          "data": {
            "text/plain": [
              "'11'"
            ],
            "application/vnd.google.colaboratory.intrinsic+json": {
              "type": "string"
            }
          },
          "metadata": {},
          "execution_count": 50
        }
      ],
      "source": [
        "month"
      ]
    },
    {
      "cell_type": "code",
      "execution_count": null,
      "metadata": {
        "colab": {
          "base_uri": "https://localhost:8080/",
          "height": 36
        },
        "id": "446820fd",
        "outputId": "ad9a2d2d-48dd-4a82-f73a-b8ac4a2e79a2"
      },
      "outputs": [
        {
          "output_type": "execute_result",
          "data": {
            "text/plain": [
              "'14'"
            ],
            "application/vnd.google.colaboratory.intrinsic+json": {
              "type": "string"
            }
          },
          "metadata": {},
          "execution_count": 51
        }
      ],
      "source": [
        "_"
      ]
    },
    {
      "cell_type": "code",
      "execution_count": null,
      "metadata": {
        "id": "d50cdc1e"
      },
      "outputs": [],
      "source": []
    }
  ]
}