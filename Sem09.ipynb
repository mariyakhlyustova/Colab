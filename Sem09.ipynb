{
  "nbformat": 4,
  "nbformat_minor": 0,
  "metadata": {
    "colab": {
      "provenance": [],
      "authorship_tag": "ABX9TyM4vShTsbpEoTqw1aAe4k2N",
      "include_colab_link": true
    },
    "kernelspec": {
      "name": "python3",
      "display_name": "Python 3"
    },
    "language_info": {
      "name": "python"
    }
  },
  "cells": [
    {
      "cell_type": "markdown",
      "metadata": {
        "id": "view-in-github",
        "colab_type": "text"
      },
      "source": [
        "<a href=\"https://colab.research.google.com/github/mariyakhlyustova/Colab/blob/main/Sem09.ipynb\" target=\"_parent\"><img src=\"https://colab.research.google.com/assets/colab-badge.svg\" alt=\"Open In Colab\"/></a>"
      ]
    },
    {
      "cell_type": "code",
      "execution_count": null,
      "metadata": {
        "id": "UsGsg--eTDXI"
      },
      "outputs": [],
      "source": [
        "import pandas as pd"
      ]
    },
    {
      "cell_type": "markdown",
      "source": [
        "1) Прочесть с помощью pandas файл california_housing_test.csv, который находится в папке sample_data\n",
        "\n",
        "\n",
        "\n",
        "\n",
        "\n",
        "\n",
        "\n",
        "\n",
        "\n",
        "\n",
        "\n",
        "\n",
        "\n"
      ],
      "metadata": {
        "id": "PzwDCF3q1Ms8"
      }
    },
    {
      "cell_type": "code",
      "source": [
        "df = pd.read_csv('sample_data/california_housing_test.csv')"
      ],
      "metadata": {
        "id": "85Nmdo9pTLU5"
      },
      "execution_count": null,
      "outputs": []
    },
    {
      "cell_type": "markdown",
      "source": [
        "2) Посмотреть сколько в нем строк и столбцов\n",
        "\n"
      ],
      "metadata": {
        "id": "XxS2gY0ELx6i"
      }
    },
    {
      "cell_type": "code",
      "source": [
        "df.shape "
      ],
      "metadata": {
        "id": "6n7yz_fZTSuZ"
      },
      "execution_count": null,
      "outputs": []
    },
    {
      "cell_type": "markdown",
      "source": [
        "\n",
        "\n",
        "3) Определить какой тип данных имеют столбцы"
      ],
      "metadata": {
        "id": "hRBz391SL1lj"
      }
    },
    {
      "cell_type": "code",
      "source": [
        "df.dtypes"
      ],
      "metadata": {
        "id": "V_LDFnTJTTFd"
      },
      "execution_count": null,
      "outputs": []
    },
    {
      "cell_type": "markdown",
      "source": [
        "1) Проверить есть ли в файле пустые значения \n",
        "\n"
      ],
      "metadata": {
        "id": "N-bHuwQ11M5w"
      }
    },
    {
      "cell_type": "code",
      "source": [
        "df.isnull()"
      ],
      "metadata": {
        "id": "LvINe44hEC7N"
      },
      "execution_count": null,
      "outputs": []
    },
    {
      "cell_type": "code",
      "source": [
        "df.isnull().sum()"
      ],
      "metadata": {
        "id": "JXOopEVTEDB1"
      },
      "execution_count": null,
      "outputs": []
    },
    {
      "cell_type": "markdown",
      "source": [
        "2) Показать median_house_value где median_income < 2"
      ],
      "metadata": {
        "id": "ngxYpcQXKuyR"
      }
    },
    {
      "cell_type": "code",
      "source": [
        "df[df['median_income'] < 2]"
      ],
      "metadata": {
        "id": "_ov4g3bgEDMC"
      },
      "execution_count": null,
      "outputs": []
    },
    {
      "cell_type": "code",
      "source": [
        "df[df['median_income'] < 2]['median_house_value']"
      ],
      "metadata": {
        "id": "-vAnNKcpIaTX"
      },
      "execution_count": null,
      "outputs": []
    },
    {
      "cell_type": "markdown",
      "source": [
        "3) Показать данные в первых 2 столбцах \n",
        "\n"
      ],
      "metadata": {
        "id": "GulprIrnK1WZ"
      }
    },
    {
      "cell_type": "code",
      "source": [
        "df[['longitude', 'latitude']]"
      ],
      "metadata": {
        "id": "W0jwyOzPIaXR"
      },
      "execution_count": null,
      "outputs": []
    },
    {
      "cell_type": "code",
      "source": [
        "df.columns"
      ],
      "metadata": {
        "id": "w0vau32aKR-h"
      },
      "execution_count": null,
      "outputs": []
    },
    {
      "cell_type": "code",
      "source": [
        "df.columns[:2]"
      ],
      "metadata": {
        "id": "SFSXIswnKggD"
      },
      "execution_count": null,
      "outputs": []
    },
    {
      "cell_type": "code",
      "source": [
        "for i in df.columns[:2]:\n",
        "  print(df[i])"
      ],
      "metadata": {
        "id": "fitmU2RxJKC0"
      },
      "execution_count": null,
      "outputs": []
    },
    {
      "cell_type": "markdown",
      "source": [
        "4) Выбрать данные где housing_median_age < 20 и median_house_value > 7000"
      ],
      "metadata": {
        "id": "cc9M6dZUK695"
      }
    },
    {
      "cell_type": "code",
      "source": [
        "df[df['housing_median_age'] < 20]"
      ],
      "metadata": {
        "id": "qE7Ha7aeJKKn"
      },
      "execution_count": null,
      "outputs": []
    },
    {
      "cell_type": "code",
      "source": [
        "df[df['median_house_value'] > 7000]"
      ],
      "metadata": {
        "id": "5gkLxkoTNQaw"
      },
      "execution_count": null,
      "outputs": []
    },
    {
      "cell_type": "code",
      "source": [
        "df[(df['housing_median_age'] < 20) & (df['median_house_value'] > 7000)]"
      ],
      "metadata": {
        "id": "nq80oiRuNQt8"
      },
      "execution_count": null,
      "outputs": []
    },
    {
      "cell_type": "markdown",
      "source": [
        "1) Определить какое максимальное и минимальное значение median_house_value \n",
        "\n"
      ],
      "metadata": {
        "id": "EDKlodDb1ZUe"
      }
    },
    {
      "cell_type": "code",
      "source": [
        "df['median_house_value'].max()"
      ],
      "metadata": {
        "id": "33MpfeJdEDtm"
      },
      "execution_count": null,
      "outputs": []
    },
    {
      "cell_type": "code",
      "source": [
        "df['median_house_value'].min()"
      ],
      "metadata": {
        "id": "PBIInO5xEDzw"
      },
      "execution_count": null,
      "outputs": []
    },
    {
      "cell_type": "markdown",
      "source": [
        "2) Показать максимальное median_house_value, где median_income = 3.1250 \n",
        "\n"
      ],
      "metadata": {
        "id": "C1KtpxwqRL8Z"
      }
    },
    {
      "cell_type": "code",
      "source": [
        "df[df['median_income'] == 3.1250]['median_house_value'].max()"
      ],
      "metadata": {
        "id": "Q9ZoWuzzED7U"
      },
      "execution_count": null,
      "outputs": []
    },
    {
      "cell_type": "markdown",
      "source": [
        "\n",
        "\n",
        "3) Узнать какая максимальная population в зоне минимального значения median_house_value"
      ],
      "metadata": {
        "id": "5CtevDEMRO2P"
      }
    },
    {
      "cell_type": "code",
      "source": [
        "df[df['median_house_value'] == df['median_house_value'].min()]['population'].max()"
      ],
      "metadata": {
        "id": "s4Hn7gALSZQI"
      },
      "execution_count": null,
      "outputs": []
    },
    {
      "cell_type": "code",
      "source": [
        "df #df.head() df.tail()"
      ],
      "metadata": {
        "id": "PakKYDJdTOLq"
      },
      "execution_count": null,
      "outputs": []
    },
    {
      "cell_type": "code",
      "source": [
        "df.iloc[152] # str 152\n"
      ],
      "metadata": {
        "id": "ZTyWiDprTS3A"
      },
      "execution_count": null,
      "outputs": []
    },
    {
      "cell_type": "code",
      "source": [
        "df.describe()"
      ],
      "metadata": {
        "id": "i-OAnuK4TTVa"
      },
      "execution_count": null,
      "outputs": []
    },
    {
      "cell_type": "code",
      "source": [
        "df.max()"
      ],
      "metadata": {
        "id": "nIwJz5ysYJnz"
      },
      "execution_count": null,
      "outputs": []
    },
    {
      "cell_type": "code",
      "source": [
        "df.min()"
      ],
      "metadata": {
        "id": "LH8T4orpYJ3Q"
      },
      "execution_count": null,
      "outputs": []
    },
    {
      "cell_type": "code",
      "source": [
        "df.count()"
      ],
      "metadata": {
        "id": "Bm7HqxgVYJ9E"
      },
      "execution_count": null,
      "outputs": []
    }
  ]
}